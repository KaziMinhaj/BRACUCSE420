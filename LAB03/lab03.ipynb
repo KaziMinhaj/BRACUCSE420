{
  "nbformat": 4,
  "nbformat_minor": 0,
  "metadata": {
    "kernelspec": {
      "display_name": "Python 3",
      "language": "python",
      "name": "python3"
    },
    "language_info": {
      "codemirror_mode": {
        "name": "ipython",
        "version": 3
      },
      "file_extension": ".py",
      "mimetype": "text/x-python",
      "name": "python",
      "nbconvert_exporter": "python",
      "pygments_lexer": "ipython3",
      "version": "3.7.3"
    },
    "colab": {
      "name": "LAB03_18101708_Kazi Md Minhajul Haider.ipynb",
      "provenance": [],
      "collapsed_sections": []
    }
  },
  "cells": [
    {
      "cell_type": "code",
      "metadata": {
        "id": "DFHTl456uMFX",
        "colab": {
          "base_uri": "https://localhost:8080/"
        },
        "outputId": "bf4db6c9-74ea-4714-a887-47160ed97f21"
      },
      "source": [
        "import re\n",
        "myfile = open(\"a.txt\", \"r\") \n",
        "lines = myfile.readlines()\n",
        "\n",
        "count = 0\n",
        "while count < len(lines): \n",
        "    lines[count] =  lines[count].replace('\\n','')\n",
        "    count+=1\n",
        "\n",
        "regex_count = int(lines[0])\n",
        "string_count = int(lines[regex_count+1])\n",
        "\n",
        "regex_list = []\n",
        "regex_start = 1\n",
        "regex_end = regex_count+1\n",
        "\n",
        "for i in range(regex_start,regex_end) :\n",
        "    regex_list.append(lines[i])\n",
        "\n",
        "string_list = []\n",
        "string_start = regex_count+2\n",
        "string_end = regex_count+string_count+2\n",
        "\n",
        "for j in range(string_start,string_end) :\n",
        "    string_list.append(lines[j])\n",
        "\n",
        "for p in string_list :\n",
        "    statement = \"NO, 0\";\n",
        "    for q in range(len(regex_list)) :\n",
        "        if (re.search(regex_list[q],p)) :\n",
        "            statement = \"YES, \"+str(q+1)\n",
        "    print(statement)\n",
        "        "
      ],
      "execution_count": 13,
      "outputs": [
        {
          "output_type": "stream",
          "text": [
            "YES, 1\n",
            "NO, 0\n",
            "YES, 2\n"
          ],
          "name": "stdout"
        }
      ]
    },
    {
      "cell_type": "code",
      "metadata": {
        "id": "cTM7QlzjuMFh"
      },
      "source": [
        ""
      ],
      "execution_count": 13,
      "outputs": []
    }
  ]
}